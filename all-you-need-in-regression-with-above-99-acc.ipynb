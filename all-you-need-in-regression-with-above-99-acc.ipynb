{
 "cells": [
  {
   "cell_type": "code",
   "execution_count": 1,
   "id": "2a15a8c8",
   "metadata": {
    "_cell_guid": "b1076dfc-b9ad-4769-8c92-a6c4dae69d19",
    "_uuid": "8f2839f25d086af736a60e9eeb907d3b93b6e0e5",
    "execution": {
     "iopub.execute_input": "2023-01-25T14:22:26.223910Z",
     "iopub.status.busy": "2023-01-25T14:22:26.223379Z",
     "iopub.status.idle": "2023-01-25T14:22:27.291597Z",
     "shell.execute_reply": "2023-01-25T14:22:27.290542Z"
    },
    "papermill": {
     "duration": 1.083217,
     "end_time": "2023-01-25T14:22:27.294405",
     "exception": false,
     "start_time": "2023-01-25T14:22:26.211188",
     "status": "completed"
    },
    "tags": []
   },
   "outputs": [
    {
     "name": "stdout",
     "output_type": "stream",
     "text": [
      "/kaggle/input/co2-emission-by-vehicles/CO2 Emissions_Canada.csv\n",
      "/kaggle/input/co2-emission-by-vehicles/Data Description.csv\n"
     ]
    }
   ],
   "source": [
    "import numpy as np \n",
    "import pandas as pd \n",
    "import matplotlib.pyplot as plt\n",
    "import seaborn as sns\n",
    "from sklearn.preprocessing import OneHotEncoder  \n",
    "ohe = OneHotEncoder(sparse=False)\n",
    "from sklearn.preprocessing import LabelEncoder\n",
    "le = LabelEncoder()\n",
    "import sys\n",
    "np.set_printoptions(threshold=sys.maxsize)\n",
    "\n",
    "import os\n",
    "for dirname, _, filenames in os.walk('/kaggle/input'):\n",
    "    for filename in filenames:\n",
    "        print(os.path.join(dirname, filename))\n",
    "        \n",
    "df = pd.read_csv(\"/kaggle/input/co2-emission-by-vehicles/CO2 Emissions_Canada.csv\")\n",
    "df_orig = df.copy()\n",
    "\n"
   ]
  },
  {
   "cell_type": "markdown",
   "id": "89e5761f",
   "metadata": {
    "papermill": {
     "duration": 0.017762,
     "end_time": "2023-01-25T14:22:27.329022",
     "exception": false,
     "start_time": "2023-01-25T14:22:27.311260",
     "status": "completed"
    },
    "tags": []
   },
   "source": [
    "# exploring the data"
   ]
  },
  {
   "cell_type": "code",
   "execution_count": 2,
   "id": "443db5fe",
   "metadata": {
    "execution": {
     "iopub.execute_input": "2023-01-25T14:22:27.366867Z",
     "iopub.status.busy": "2023-01-25T14:22:27.366086Z",
     "iopub.status.idle": "2023-01-25T14:22:27.405695Z",
     "shell.execute_reply": "2023-01-25T14:22:27.404287Z"
    },
    "papermill": {
     "duration": 0.058848,
     "end_time": "2023-01-25T14:22:27.408166",
     "exception": false,
     "start_time": "2023-01-25T14:22:27.349318",
     "status": "completed"
    },
    "tags": []
   },
   "outputs": [
    {
     "name": "stdout",
     "output_type": "stream",
     "text": [
      "data info :\n",
      "<class 'pandas.core.frame.DataFrame'>\n",
      "RangeIndex: 7385 entries, 0 to 7384\n",
      "Data columns (total 12 columns):\n",
      " #   Column                            Non-Null Count  Dtype  \n",
      "---  ------                            --------------  -----  \n",
      " 0   Make                              7385 non-null   object \n",
      " 1   Model                             7385 non-null   object \n",
      " 2   Vehicle Class                     7385 non-null   object \n",
      " 3   Engine Size(L)                    7385 non-null   float64\n",
      " 4   Cylinders                         7385 non-null   int64  \n",
      " 5   Transmission                      7385 non-null   object \n",
      " 6   Fuel Type                         7385 non-null   object \n",
      " 7   Fuel Consumption City (L/100 km)  7385 non-null   float64\n",
      " 8   Fuel Consumption Hwy (L/100 km)   7385 non-null   float64\n",
      " 9   Fuel Consumption Comb (L/100 km)  7385 non-null   float64\n",
      " 10  Fuel Consumption Comb (mpg)       7385 non-null   int64  \n",
      " 11  CO2 Emissions(g/km)               7385 non-null   int64  \n",
      "dtypes: float64(4), int64(3), object(5)\n",
      "memory usage: 692.5+ KB\n",
      "None\n",
      "data shape :\n",
      "(7385, 12)\n"
     ]
    }
   ],
   "source": [
    "print(\"data info :\")\n",
    "print(df.info())\n",
    "print(\"data shape :\")\n",
    "print(df.shape)"
   ]
  },
  {
   "cell_type": "markdown",
   "id": "5a8dde54",
   "metadata": {
    "papermill": {
     "duration": 0.022678,
     "end_time": "2023-01-25T14:22:27.453396",
     "exception": false,
     "start_time": "2023-01-25T14:22:27.430718",
     "status": "completed"
    },
    "tags": []
   },
   "source": [
    "# renaming the columns"
   ]
  },
  {
   "cell_type": "code",
   "execution_count": 3,
   "id": "e1202c8c",
   "metadata": {
    "execution": {
     "iopub.execute_input": "2023-01-25T14:22:27.482363Z",
     "iopub.status.busy": "2023-01-25T14:22:27.481941Z",
     "iopub.status.idle": "2023-01-25T14:22:27.499162Z",
     "shell.execute_reply": "2023-01-25T14:22:27.498072Z"
    },
    "papermill": {
     "duration": 0.033826,
     "end_time": "2023-01-25T14:22:27.501724",
     "exception": false,
     "start_time": "2023-01-25T14:22:27.467898",
     "status": "completed"
    },
    "tags": []
   },
   "outputs": [
    {
     "data": {
      "text/plain": [
       "Index(['Make', 'Model', 'Vehicle_Class', 'Engine_Size', 'Cylinders',\n",
       "       'Transmission', 'Fuel_Type', 'Fuel_Consumption_City_(L/100km)',\n",
       "       'Fuel_Consumption_Hwy_(L/100km)', 'Fuel_Consumption_Comb_(L/100km)',\n",
       "       'Fuel_Consumption_Comb_(mpg)', 'CO2_Emissions(g/km)'],\n",
       "      dtype='object')"
      ]
     },
     "execution_count": 3,
     "metadata": {},
     "output_type": "execute_result"
    }
   ],
   "source": [
    "df = df.rename({\n",
    "    'Vehicle Class' : 'Vehicle_Class' , \n",
    "    'Engine Size(L)': 'Engine_Size' ,\n",
    "    'Fuel Type' : 'Fuel_Type',\n",
    "    'Fuel Consumption City (L/100 km)' : 'Fuel_Consumption_City_(L/100km)' , \n",
    "    'Fuel Consumption Hwy (L/100 km)' : 'Fuel_Consumption_Hwy_(L/100km)' ,\n",
    "    'Fuel Consumption Comb (L/100 km)' : 'Fuel_Consumption_Comb_(L/100km)' ,\n",
    "    'Fuel Consumption Comb (mpg)' : 'Fuel_Consumption_Comb_(mpg)' , \n",
    "    'CO2 Emissions(g/km)' : 'CO2_Emissions(g/km)'\n",
    "} , axis = 1)\n",
    "df.columns"
   ]
  },
  {
   "cell_type": "markdown",
   "id": "98744f34",
   "metadata": {
    "papermill": {
     "duration": 0.013008,
     "end_time": "2023-01-25T14:22:27.528272",
     "exception": false,
     "start_time": "2023-01-25T14:22:27.515264",
     "status": "completed"
    },
    "tags": []
   },
   "source": [
    "# split the data to numerical data and categorical data \n",
    "**it helps in pre processing**"
   ]
  },
  {
   "cell_type": "code",
   "execution_count": 4,
   "id": "ffb1079a",
   "metadata": {
    "execution": {
     "iopub.execute_input": "2023-01-25T14:22:27.555761Z",
     "iopub.status.busy": "2023-01-25T14:22:27.555434Z",
     "iopub.status.idle": "2023-01-25T14:22:28.002890Z",
     "shell.execute_reply": "2023-01-25T14:22:28.001791Z"
    },
    "papermill": {
     "duration": 0.464085,
     "end_time": "2023-01-25T14:22:28.005298",
     "exception": false,
     "start_time": "2023-01-25T14:22:27.541213",
     "status": "completed"
    },
    "tags": []
   },
   "outputs": [],
   "source": [
    "temp = []\n",
    "temp2 = []\n",
    "for i in df:\n",
    "  if df[i].dtype==\"float64\" or df[i].dtype==\"int64\":\n",
    "    temp.append(df[i])\n",
    "  else:\n",
    "    temp2.append(df[i])\n",
    "    \n",
    "df_cat = pd.DataFrame(temp2)\n",
    "df_num = pd.DataFrame(temp)\n",
    "df_num = df_num.T\n",
    "df_cat = df_cat.T"
   ]
  },
  {
   "cell_type": "markdown",
   "id": "b4183d88",
   "metadata": {
    "papermill": {
     "duration": 0.009184,
     "end_time": "2023-01-25T14:22:28.024037",
     "exception": false,
     "start_time": "2023-01-25T14:22:28.014853",
     "status": "completed"
    },
    "tags": []
   },
   "source": [
    "**drop the cylinders from numerical data but not from the whole data**"
   ]
  },
  {
   "cell_type": "code",
   "execution_count": 5,
   "id": "c2d42406",
   "metadata": {
    "execution": {
     "iopub.execute_input": "2023-01-25T14:22:28.043601Z",
     "iopub.status.busy": "2023-01-25T14:22:28.043304Z",
     "iopub.status.idle": "2023-01-25T14:22:28.050103Z",
     "shell.execute_reply": "2023-01-25T14:22:28.049171Z"
    },
    "papermill": {
     "duration": 0.018967,
     "end_time": "2023-01-25T14:22:28.052155",
     "exception": false,
     "start_time": "2023-01-25T14:22:28.033188",
     "status": "completed"
    },
    "tags": []
   },
   "outputs": [],
   "source": [
    "df_num.drop(['Cylinders'], axis=1, inplace = True)"
   ]
  },
  {
   "cell_type": "markdown",
   "id": "4121f4b0",
   "metadata": {
    "papermill": {
     "duration": 0.008838,
     "end_time": "2023-01-25T14:22:28.069990",
     "exception": false,
     "start_time": "2023-01-25T14:22:28.061152",
     "status": "completed"
    },
    "tags": []
   },
   "source": [
    "# ploting the numerical data "
   ]
  },
  {
   "cell_type": "code",
   "execution_count": 6,
   "id": "12c2b7c4",
   "metadata": {
    "execution": {
     "iopub.execute_input": "2023-01-25T14:22:28.089919Z",
     "iopub.status.busy": "2023-01-25T14:22:28.089103Z",
     "iopub.status.idle": "2023-01-25T14:22:28.858157Z",
     "shell.execute_reply": "2023-01-25T14:22:28.857145Z"
    },
    "papermill": {
     "duration": 0.782216,
     "end_time": "2023-01-25T14:22:28.861286",
     "exception": false,
     "start_time": "2023-01-25T14:22:28.079070",
     "status": "completed"
    },
    "tags": []
   },
   "outputs": [
    {
     "data": {
      "image/png": "[encoded data removed]",
      "text/plain": [
       "<Figure size 1080x1080 with 6 Axes>"
      ]
     },
     "metadata": {
      "needs_background": "light"
     },
     "output_type": "display_data"
    }
   ],
   "source": [
    "plt.figure(figsize = (15,15))\n",
    "\n",
    "for  i in enumerate(df_num):\n",
    "    \n",
    "    plt.subplot(3,3,i[0]+1)\n",
    "    x = df_num[i[1]]\n",
    "    y=df_num['CO2_Emissions(g/km)']\n",
    "\n",
    "    plt.xlabel(i[1])\n",
    "    plt.ylabel(\"CO2 Emissions(g/km)\")\n",
    "  \n",
    "    plt.scatter(x, y , alpha=0.5)  \n",
    "   "
   ]
  },
  {
   "cell_type": "markdown",
   "id": "6bb33b28",
   "metadata": {
    "papermill": {
     "duration": 0.010211,
     "end_time": "2023-01-25T14:22:28.882419",
     "exception": false,
     "start_time": "2023-01-25T14:22:28.872208",
     "status": "completed"
    },
    "tags": []
   },
   "source": [
    "# using boxplot to see if there are outliers "
   ]
  },
  {
   "cell_type": "code",
   "execution_count": 7,
   "id": "23d8219b",
   "metadata": {
    "execution": {
     "iopub.execute_input": "2023-01-25T14:22:28.904160Z",
     "iopub.status.busy": "2023-01-25T14:22:28.903877Z",
     "iopub.status.idle": "2023-01-25T14:22:29.461525Z",
     "shell.execute_reply": "2023-01-25T14:22:29.460546Z"
    },
    "papermill": {
     "duration": 0.571073,
     "end_time": "2023-01-25T14:22:29.463765",
     "exception": false,
     "start_time": "2023-01-25T14:22:28.892692",
     "status": "completed"
    },
    "tags": []
   },
   "outputs": [
    {
     "data": {
      "image/png": "[encoded data removed]",
      "text/plain": [
       "<Figure size 1080x1440 with 6 Axes>"
      ]
     },
     "metadata": {
      "needs_background": "light"
     },
     "output_type": "display_data"
    }
   ],
   "source": [
    "plt.figure(figsize = (15,20))\n",
    "for i in enumerate(df_num):\n",
    "    plt.subplot(3,3,i[0]+1)\n",
    "    plt.title(i[1])\n",
    "    plt.boxplot(df_num[i[1]])\n",
    "    "
   ]
  },
  {
   "cell_type": "markdown",
   "id": "96bdf88d",
   "metadata": {
    "papermill": {
     "duration": 0.010631,
     "end_time": "2023-01-25T14:22:29.485443",
     "exception": false,
     "start_time": "2023-01-25T14:22:29.474812",
     "status": "completed"
    },
    "tags": []
   },
   "source": [
    "**Fuel_Consumption_Comb_(mpg)** is not logic to be like that in the plot"
   ]
  },
  {
   "cell_type": "code",
   "execution_count": 8,
   "id": "7894299a",
   "metadata": {
    "execution": {
     "iopub.execute_input": "2023-01-25T14:22:29.508535Z",
     "iopub.status.busy": "2023-01-25T14:22:29.507968Z",
     "iopub.status.idle": "2023-01-25T14:22:29.717416Z",
     "shell.execute_reply": "2023-01-25T14:22:29.716307Z"
    },
    "papermill": {
     "duration": 0.223327,
     "end_time": "2023-01-25T14:22:29.719510",
     "exception": false,
     "start_time": "2023-01-25T14:22:29.496183",
     "status": "completed"
    },
    "tags": []
   },
   "outputs": [
    {
     "data": {
      "text/plain": [
       "Text(0, 0.5, 'co2 emition')"
      ]
     },
     "execution_count": 8,
     "metadata": {},
     "output_type": "execute_result"
    },
    {
     "data": {
      "image/png": "[encoded data removed]",
      "text/plain": [
       "<Figure size 432x288 with 1 Axes>"
      ]
     },
     "metadata": {
      "needs_background": "light"
     },
     "output_type": "display_data"
    }
   ],
   "source": [
    "plt.scatter(np.log10(df['Fuel_Consumption_Comb_(mpg)']) , df['CO2_Emissions(g/km)'])\n",
    "plt.xlabel(\"fuel consumption comp mpg\")\n",
    "plt.ylabel(\"co2 emition\")"
   ]
  },
  {
   "cell_type": "markdown",
   "id": "98fe3ff2",
   "metadata": {
    "papermill": {
     "duration": 0.011069,
     "end_time": "2023-01-25T14:22:29.741995",
     "exception": false,
     "start_time": "2023-01-25T14:22:29.730926",
     "status": "completed"
    },
    "tags": []
   },
   "source": [
    "checking its correlation "
   ]
  },
  {
   "cell_type": "code",
   "execution_count": 9,
   "id": "3e831011",
   "metadata": {
    "execution": {
     "iopub.execute_input": "2023-01-25T14:22:29.765921Z",
     "iopub.status.busy": "2023-01-25T14:22:29.765615Z",
     "iopub.status.idle": "2023-01-25T14:22:29.774288Z",
     "shell.execute_reply": "2023-01-25T14:22:29.773311Z"
    },
    "papermill": {
     "duration": 0.022776,
     "end_time": "2023-01-25T14:22:29.776387",
     "exception": false,
     "start_time": "2023-01-25T14:22:29.753611",
     "status": "completed"
    },
    "tags": []
   },
   "outputs": [
    {
     "data": {
      "text/plain": [
       "-0.9074262866541872"
      ]
     },
     "execution_count": 9,
     "metadata": {},
     "output_type": "execute_result"
    }
   ],
   "source": [
    "corr_mpg = df['Fuel_Consumption_Comb_(mpg)'].corr(df['CO2_Emissions(g/km)'])\n",
    "corr_mpg"
   ]
  },
  {
   "cell_type": "markdown",
   "id": "9a730e56",
   "metadata": {
    "papermill": {
     "duration": 0.010928,
     "end_time": "2023-01-25T14:22:29.799066",
     "exception": false,
     "start_time": "2023-01-25T14:22:29.788138",
     "status": "completed"
    },
    "tags": []
   },
   "source": [
    "droping it "
   ]
  },
  {
   "cell_type": "code",
   "execution_count": 10,
   "id": "a0677b26",
   "metadata": {
    "execution": {
     "iopub.execute_input": "2023-01-25T14:22:29.823028Z",
     "iopub.status.busy": "2023-01-25T14:22:29.822144Z",
     "iopub.status.idle": "2023-01-25T14:22:29.829146Z",
     "shell.execute_reply": "2023-01-25T14:22:29.828345Z"
    },
    "papermill": {
     "duration": 0.021034,
     "end_time": "2023-01-25T14:22:29.831052",
     "exception": false,
     "start_time": "2023-01-25T14:22:29.810018",
     "status": "completed"
    },
    "tags": []
   },
   "outputs": [],
   "source": [
    "df.drop(['Fuel_Consumption_Comb_(mpg)'], axis=1, inplace = True)\n",
    "df_num.drop(['Fuel_Consumption_Comb_(mpg)'], axis=1, inplace = True)"
   ]
  },
  {
   "cell_type": "code",
   "execution_count": 11,
   "id": "c8c806f5",
   "metadata": {
    "execution": {
     "iopub.execute_input": "2023-01-25T14:22:29.855011Z",
     "iopub.status.busy": "2023-01-25T14:22:29.854455Z",
     "iopub.status.idle": "2023-01-25T14:22:29.870422Z",
     "shell.execute_reply": "2023-01-25T14:22:29.869478Z"
    },
    "papermill": {
     "duration": 0.03026,
     "end_time": "2023-01-25T14:22:29.872420",
     "exception": false,
     "start_time": "2023-01-25T14:22:29.842160",
     "status": "completed"
    },
    "tags": []
   },
   "outputs": [
    {
     "data": {
      "text/html": [
       "<div>\n",
       "<style scoped>\n",
       "    .dataframe tbody tr th:only-of-type {\n",
       "        vertical-align: middle;\n",
       "    }\n",
       "\n",
       "    .dataframe tbody tr th {\n",
       "        vertical-align: top;\n",
       "    }\n",
       "\n",
       "    .dataframe thead th {\n",
       "        text-align: right;\n",
       "    }\n",
       "</style>\n",
       "<table border=\"1\" class=\"dataframe\">\n",
       "  <thead>\n",
       "    <tr style=\"text-align: right;\">\n",
       "      <th></th>\n",
       "      <th>Make</th>\n",
       "      <th>Model</th>\n",
       "      <th>Vehicle_Class</th>\n",
       "      <th>Transmission</th>\n",
       "      <th>Fuel_Type</th>\n",
       "    </tr>\n",
       "  </thead>\n",
       "  <tbody>\n",
       "    <tr>\n",
       "      <th>0</th>\n",
       "      <td>ACURA</td>\n",
       "      <td>ILX</td>\n",
       "      <td>COMPACT</td>\n",
       "      <td>AS5</td>\n",
       "      <td>Z</td>\n",
       "    </tr>\n",
       "    <tr>\n",
       "      <th>1</th>\n",
       "      <td>ACURA</td>\n",
       "      <td>ILX</td>\n",
       "      <td>COMPACT</td>\n",
       "      <td>M6</td>\n",
       "      <td>Z</td>\n",
       "    </tr>\n",
       "    <tr>\n",
       "      <th>2</th>\n",
       "      <td>ACURA</td>\n",
       "      <td>ILX HYBRID</td>\n",
       "      <td>COMPACT</td>\n",
       "      <td>AV7</td>\n",
       "      <td>Z</td>\n",
       "    </tr>\n",
       "    <tr>\n",
       "      <th>3</th>\n",
       "      <td>ACURA</td>\n",
       "      <td>MDX 4WD</td>\n",
       "      <td>SUV - SMALL</td>\n",
       "      <td>AS6</td>\n",
       "      <td>Z</td>\n",
       "    </tr>\n",
       "    <tr>\n",
       "      <th>4</th>\n",
       "      <td>ACURA</td>\n",
       "      <td>RDX AWD</td>\n",
       "      <td>SUV - SMALL</td>\n",
       "      <td>AS6</td>\n",
       "      <td>Z</td>\n",
       "    </tr>\n",
       "    <tr>\n",
       "      <th>...</th>\n",
       "      <td>...</td>\n",
       "      <td>...</td>\n",
       "      <td>...</td>\n",
       "      <td>...</td>\n",
       "      <td>...</td>\n",
       "    </tr>\n",
       "    <tr>\n",
       "      <th>7380</th>\n",
       "      <td>VOLVO</td>\n",
       "      <td>XC40 T5 AWD</td>\n",
       "      <td>SUV - SMALL</td>\n",
       "      <td>AS8</td>\n",
       "      <td>Z</td>\n",
       "    </tr>\n",
       "    <tr>\n",
       "      <th>7381</th>\n",
       "      <td>VOLVO</td>\n",
       "      <td>XC60 T5 AWD</td>\n",
       "      <td>SUV - SMALL</td>\n",
       "      <td>AS8</td>\n",
       "      <td>Z</td>\n",
       "    </tr>\n",
       "    <tr>\n",
       "      <th>7382</th>\n",
       "      <td>VOLVO</td>\n",
       "      <td>XC60 T6 AWD</td>\n",
       "      <td>SUV - SMALL</td>\n",
       "      <td>AS8</td>\n",
       "      <td>Z</td>\n",
       "    </tr>\n",
       "    <tr>\n",
       "      <th>7383</th>\n",
       "      <td>VOLVO</td>\n",
       "      <td>XC90 T5 AWD</td>\n",
       "      <td>SUV - STANDARD</td>\n",
       "      <td>AS8</td>\n",
       "      <td>Z</td>\n",
       "    </tr>\n",
       "    <tr>\n",
       "      <th>7384</th>\n",
       "      <td>VOLVO</td>\n",
       "      <td>XC90 T6 AWD</td>\n",
       "      <td>SUV - STANDARD</td>\n",
       "      <td>AS8</td>\n",
       "      <td>Z</td>\n",
       "    </tr>\n",
       "  </tbody>\n",
       "</table>\n",
       "<p>7385 rows × 5 columns</p>\n",
       "</div>"
      ],
      "text/plain": [
       "       Make        Model   Vehicle_Class Transmission Fuel_Type\n",
       "0     ACURA          ILX         COMPACT          AS5         Z\n",
       "1     ACURA          ILX         COMPACT           M6         Z\n",
       "2     ACURA   ILX HYBRID         COMPACT          AV7         Z\n",
       "3     ACURA      MDX 4WD     SUV - SMALL          AS6         Z\n",
       "4     ACURA      RDX AWD     SUV - SMALL          AS6         Z\n",
       "...     ...          ...             ...          ...       ...\n",
       "7380  VOLVO  XC40 T5 AWD     SUV - SMALL          AS8         Z\n",
       "7381  VOLVO  XC60 T5 AWD     SUV - SMALL          AS8         Z\n",
       "7382  VOLVO  XC60 T6 AWD     SUV - SMALL          AS8         Z\n",
       "7383  VOLVO  XC90 T5 AWD  SUV - STANDARD          AS8         Z\n",
       "7384  VOLVO  XC90 T6 AWD  SUV - STANDARD          AS8         Z\n",
       "\n",
       "[7385 rows x 5 columns]"
      ]
     },
     "execution_count": 11,
     "metadata": {},
     "output_type": "execute_result"
    }
   ],
   "source": [
    "df_cat"
   ]
  },
  {
   "cell_type": "markdown",
   "id": "ee6f2313",
   "metadata": {
    "papermill": {
     "duration": 0.011156,
     "end_time": "2023-01-25T14:22:29.895126",
     "exception": false,
     "start_time": "2023-01-25T14:22:29.883970",
     "status": "completed"
    },
    "tags": []
   },
   "source": [
    "# ploting vehicle class "
   ]
  },
  {
   "cell_type": "code",
   "execution_count": 12,
   "id": "c585d69f",
   "metadata": {
    "execution": {
     "iopub.execute_input": "2023-01-25T14:22:29.920133Z",
     "iopub.status.busy": "2023-01-25T14:22:29.919297Z",
     "iopub.status.idle": "2023-01-25T14:22:41.510482Z",
     "shell.execute_reply": "2023-01-25T14:22:41.509603Z"
    },
    "papermill": {
     "duration": 11.605737,
     "end_time": "2023-01-25T14:22:41.512556",
     "exception": false,
     "start_time": "2023-01-25T14:22:29.906819",
     "status": "completed"
    },
    "tags": []
   },
   "outputs": [
    {
     "data": {
      "image/png": "[encoded data removed]",
      "text/plain": [
       "<Figure size 864x504 with 1 Axes>"
      ]
     },
     "metadata": {
      "needs_background": "light"
     },
     "output_type": "display_data"
    }
   ],
   "source": [
    "vehicle_classes = df['Vehicle_Class'].unique()\n",
    "vehicle_classes_count =range(len(vehicle_classes))\n",
    "\n",
    "plt.figure(figsize=(12,7))\n",
    "\n",
    "plt.xlabel('Vehicle_Class')\n",
    "plt.ylabel('CO2_Emissions')\n",
    "\n",
    "plt.bar(df['Vehicle_Class'] , df['CO2_Emissions(g/km)'] )\n",
    "plt.xticks(vehicle_classes_count ,vehicle_classes, rotation = 'vertical')\n",
    "plt.show()"
   ]
  },
  {
   "cell_type": "markdown",
   "id": "98ebb7e4",
   "metadata": {
    "papermill": {
     "duration": 0.011862,
     "end_time": "2023-01-25T14:22:41.537203",
     "exception": false,
     "start_time": "2023-01-25T14:22:41.525341",
     "status": "completed"
    },
    "tags": []
   },
   "source": [
    "* N = natural gas\n",
    "* E = ethanol\n",
    "* D = diesel\n",
    "* X = gasoline\n",
    "* Z = premium gasoline"
   ]
  },
  {
   "cell_type": "markdown",
   "id": "41581092",
   "metadata": {
    "papermill": {
     "duration": 0.011632,
     "end_time": "2023-01-25T14:22:41.560747",
     "exception": false,
     "start_time": "2023-01-25T14:22:41.549115",
     "status": "completed"
    },
    "tags": []
   },
   "source": [
    "# Data preprocessing \n"
   ]
  },
  {
   "cell_type": "code",
   "execution_count": 13,
   "id": "f6d189a1",
   "metadata": {
    "execution": {
     "iopub.execute_input": "2023-01-25T14:22:41.586441Z",
     "iopub.status.busy": "2023-01-25T14:22:41.586149Z",
     "iopub.status.idle": "2023-01-25T14:22:41.597652Z",
     "shell.execute_reply": "2023-01-25T14:22:41.596817Z"
    },
    "papermill": {
     "duration": 0.026797,
     "end_time": "2023-01-25T14:22:41.599759",
     "exception": false,
     "start_time": "2023-01-25T14:22:41.572962",
     "status": "completed"
    },
    "tags": []
   },
   "outputs": [],
   "source": [
    "df.drop(['Model'], axis=1, inplace = True)\n",
    "df.drop(['Make'], axis=1, inplace = True)\n",
    "\n",
    "#as the combination betwween the hwy and the city has its own column\n",
    "df.drop(['Fuel_Consumption_City_(L/100km)'], axis=1, inplace = True)\n",
    "df.drop(['Fuel_Consumption_Hwy_(L/100km)'], axis=1, inplace = True)\n",
    "\n",
    "df_num.drop(['Fuel_Consumption_City_(L/100km)'], axis=1, inplace = True)\n",
    "df_num.drop(['Fuel_Consumption_Hwy_(L/100km)'], axis=1, inplace = True)"
   ]
  },
  {
   "cell_type": "markdown",
   "id": "c2c80275",
   "metadata": {
    "papermill": {
     "duration": 0.011843,
     "end_time": "2023-01-25T14:22:41.623466",
     "exception": false,
     "start_time": "2023-01-25T14:22:41.611623",
     "status": "completed"
    },
    "tags": []
   },
   "source": [
    "# using quantile function to remove outliers "
   ]
  },
  {
   "cell_type": "code",
   "execution_count": 14,
   "id": "0639e06f",
   "metadata": {
    "execution": {
     "iopub.execute_input": "2023-01-25T14:22:41.648957Z",
     "iopub.status.busy": "2023-01-25T14:22:41.648618Z",
     "iopub.status.idle": "2023-01-25T14:22:41.657912Z",
     "shell.execute_reply": "2023-01-25T14:22:41.656977Z"
    },
    "papermill": {
     "duration": 0.024751,
     "end_time": "2023-01-25T14:22:41.660151",
     "exception": false,
     "start_time": "2023-01-25T14:22:41.635400",
     "status": "completed"
    },
    "tags": []
   },
   "outputs": [],
   "source": [
    "min_list = []\n",
    "max_list = []\n",
    "for  i in enumerate(df_num):\n",
    "    min , max = df_num[i[1]].quantile([0.01,0.99])\n",
    "    min_list.append(min)\n",
    "    max_list.append(max)"
   ]
  },
  {
   "cell_type": "code",
   "execution_count": 15,
   "id": "147305f4",
   "metadata": {
    "execution": {
     "iopub.execute_input": "2023-01-25T14:22:41.685945Z",
     "iopub.status.busy": "2023-01-25T14:22:41.685114Z",
     "iopub.status.idle": "2023-01-25T14:22:41.697312Z",
     "shell.execute_reply": "2023-01-25T14:22:41.695794Z"
    },
    "papermill": {
     "duration": 0.027612,
     "end_time": "2023-01-25T14:22:41.699993",
     "exception": false,
     "start_time": "2023-01-25T14:22:41.672381",
     "status": "completed"
    },
    "tags": []
   },
   "outputs": [
    {
     "name": "stdout",
     "output_type": "stream",
     "text": [
      "0\n",
      "1\n",
      "2\n"
     ]
    }
   ],
   "source": [
    "for  i in enumerate(df_num):\n",
    "    print(i[0])\n",
    "    df =df[ df[i[1]] > min_list[i[0]] ]\n",
    "    df =df[ df[i[1]] < max_list[i[0]] ]"
   ]
  },
  {
   "cell_type": "code",
   "execution_count": 16,
   "id": "9f86ec2c",
   "metadata": {
    "execution": {
     "iopub.execute_input": "2023-01-25T14:22:41.725751Z",
     "iopub.status.busy": "2023-01-25T14:22:41.725465Z",
     "iopub.status.idle": "2023-01-25T14:22:41.730352Z",
     "shell.execute_reply": "2023-01-25T14:22:41.729447Z"
    },
    "papermill": {
     "duration": 0.020959,
     "end_time": "2023-01-25T14:22:41.733182",
     "exception": false,
     "start_time": "2023-01-25T14:22:41.712223",
     "status": "completed"
    },
    "tags": []
   },
   "outputs": [
    {
     "name": "stdout",
     "output_type": "stream",
     "text": [
      "the length of the original :  7385\n",
      "the length after removing the outliers :  6848\n"
     ]
    }
   ],
   "source": [
    "print(\"the length of the original : \" , len(df_orig))\n",
    "print(\"the length after removing the outliers : \" , len(df))"
   ]
  },
  {
   "cell_type": "markdown",
   "id": "d106139c",
   "metadata": {
    "papermill": {
     "duration": 0.011747,
     "end_time": "2023-01-25T14:22:41.757984",
     "exception": false,
     "start_time": "2023-01-25T14:22:41.746237",
     "status": "completed"
    },
    "tags": []
   },
   "source": [
    "#  checking by mean and std \n",
    "* mean + 3*std > or < the max"
   ]
  },
  {
   "cell_type": "code",
   "execution_count": 17,
   "id": "73085e23",
   "metadata": {
    "execution": {
     "iopub.execute_input": "2023-01-25T14:22:41.783121Z",
     "iopub.status.busy": "2023-01-25T14:22:41.782531Z",
     "iopub.status.idle": "2023-01-25T14:22:41.804870Z",
     "shell.execute_reply": "2023-01-25T14:22:41.803878Z"
    },
    "papermill": {
     "duration": 0.037052,
     "end_time": "2023-01-25T14:22:41.806989",
     "exception": false,
     "start_time": "2023-01-25T14:22:41.769937",
     "status": "completed"
    },
    "tags": []
   },
   "outputs": [
    {
     "data": {
      "text/html": [
       "<div>\n",
       "<style scoped>\n",
       "    .dataframe tbody tr th:only-of-type {\n",
       "        vertical-align: middle;\n",
       "    }\n",
       "\n",
       "    .dataframe tbody tr th {\n",
       "        vertical-align: top;\n",
       "    }\n",
       "\n",
       "    .dataframe thead th {\n",
       "        text-align: right;\n",
       "    }\n",
       "</style>\n",
       "<table border=\"1\" class=\"dataframe\">\n",
       "  <thead>\n",
       "    <tr style=\"text-align: right;\">\n",
       "      <th></th>\n",
       "      <th>Engine_Size</th>\n",
       "      <th>Cylinders</th>\n",
       "      <th>Fuel_Consumption_Comb_(L/100km)</th>\n",
       "      <th>CO2_Emissions(g/km)</th>\n",
       "    </tr>\n",
       "  </thead>\n",
       "  <tbody>\n",
       "    <tr>\n",
       "      <th>count</th>\n",
       "      <td>6848.000000</td>\n",
       "      <td>6848.000000</td>\n",
       "      <td>6848.000000</td>\n",
       "      <td>6848.000000</td>\n",
       "    </tr>\n",
       "    <tr>\n",
       "      <th>mean</th>\n",
       "      <td>3.167626</td>\n",
       "      <td>5.590683</td>\n",
       "      <td>10.953899</td>\n",
       "      <td>250.987150</td>\n",
       "    </tr>\n",
       "    <tr>\n",
       "      <th>std</th>\n",
       "      <td>1.254798</td>\n",
       "      <td>1.687404</td>\n",
       "      <td>2.497853</td>\n",
       "      <td>51.321202</td>\n",
       "    </tr>\n",
       "    <tr>\n",
       "      <th>min</th>\n",
       "      <td>1.500000</td>\n",
       "      <td>3.000000</td>\n",
       "      <td>5.700000</td>\n",
       "      <td>132.000000</td>\n",
       "    </tr>\n",
       "    <tr>\n",
       "      <th>25%</th>\n",
       "      <td>2.000000</td>\n",
       "      <td>4.000000</td>\n",
       "      <td>9.100000</td>\n",
       "      <td>212.000000</td>\n",
       "    </tr>\n",
       "    <tr>\n",
       "      <th>50%</th>\n",
       "      <td>3.000000</td>\n",
       "      <td>6.000000</td>\n",
       "      <td>10.600000</td>\n",
       "      <td>247.000000</td>\n",
       "    </tr>\n",
       "    <tr>\n",
       "      <th>75%</th>\n",
       "      <td>3.700000</td>\n",
       "      <td>6.000000</td>\n",
       "      <td>12.600000</td>\n",
       "      <td>287.000000</td>\n",
       "    </tr>\n",
       "    <tr>\n",
       "      <th>max</th>\n",
       "      <td>6.400000</td>\n",
       "      <td>12.000000</td>\n",
       "      <td>19.100000</td>\n",
       "      <td>410.000000</td>\n",
       "    </tr>\n",
       "  </tbody>\n",
       "</table>\n",
       "</div>"
      ],
      "text/plain": [
       "       Engine_Size    Cylinders  Fuel_Consumption_Comb_(L/100km)  \\\n",
       "count  6848.000000  6848.000000                      6848.000000   \n",
       "mean      3.167626     5.590683                        10.953899   \n",
       "std       1.254798     1.687404                         2.497853   \n",
       "min       1.500000     3.000000                         5.700000   \n",
       "25%       2.000000     4.000000                         9.100000   \n",
       "50%       3.000000     6.000000                        10.600000   \n",
       "75%       3.700000     6.000000                        12.600000   \n",
       "max       6.400000    12.000000                        19.100000   \n",
       "\n",
       "       CO2_Emissions(g/km)  \n",
       "count          6848.000000  \n",
       "mean            250.987150  \n",
       "std              51.321202  \n",
       "min             132.000000  \n",
       "25%             212.000000  \n",
       "50%             247.000000  \n",
       "75%             287.000000  \n",
       "max             410.000000  "
      ]
     },
     "execution_count": 17,
     "metadata": {},
     "output_type": "execute_result"
    }
   ],
   "source": [
    "df.describe()"
   ]
  },
  {
   "cell_type": "markdown",
   "id": "e238d3ee",
   "metadata": {
    "papermill": {
     "duration": 0.011886,
     "end_time": "2023-01-25T14:22:41.831236",
     "exception": false,
     "start_time": "2023-01-25T14:22:41.819350",
     "status": "completed"
    },
    "tags": []
   },
   "source": [
    "# dealing with the catigorical attributes"
   ]
  },
  {
   "cell_type": "code",
   "execution_count": 18,
   "id": "6dc1b819",
   "metadata": {
    "execution": {
     "iopub.execute_input": "2023-01-25T14:22:41.856905Z",
     "iopub.status.busy": "2023-01-25T14:22:41.856548Z",
     "iopub.status.idle": "2023-01-25T14:22:41.876273Z",
     "shell.execute_reply": "2023-01-25T14:22:41.875382Z"
    },
    "papermill": {
     "duration": 0.034917,
     "end_time": "2023-01-25T14:22:41.878550",
     "exception": false,
     "start_time": "2023-01-25T14:22:41.843633",
     "status": "completed"
    },
    "tags": []
   },
   "outputs": [],
   "source": [
    "df=pd.concat([df,pd.get_dummies(df['Vehicle_Class'],prefix='Vehicle Class',drop_first=True)],axis=1)\n",
    "df.drop(['Vehicle_Class'], axis=1, inplace = True)\n",
    "df=pd.concat([df,pd.get_dummies(df['Transmission'],prefix='Transmission',drop_first=True)],axis=1)\n",
    "df.drop(['Transmission'], axis=1, inplace = True)\n",
    "df=pd.concat([df,pd.get_dummies(df['Fuel_Type'],prefix='Fuel Type',drop_first=True)],axis=1)\n",
    "df.drop(['Fuel_Type'], axis=1, inplace = True)"
   ]
  },
  {
   "cell_type": "code",
   "execution_count": 19,
   "id": "e94cd227",
   "metadata": {
    "execution": {
     "iopub.execute_input": "2023-01-25T14:22:41.905028Z",
     "iopub.status.busy": "2023-01-25T14:22:41.904300Z",
     "iopub.status.idle": "2023-01-25T14:22:41.926605Z",
     "shell.execute_reply": "2023-01-25T14:22:41.925698Z"
    },
    "papermill": {
     "duration": 0.037504,
     "end_time": "2023-01-25T14:22:41.928694",
     "exception": false,
     "start_time": "2023-01-25T14:22:41.891190",
     "status": "completed"
    },
    "tags": []
   },
   "outputs": [
    {
     "data": {
      "text/html": [
       "<div>\n",
       "<style scoped>\n",
       "    .dataframe tbody tr th:only-of-type {\n",
       "        vertical-align: middle;\n",
       "    }\n",
       "\n",
       "    .dataframe tbody tr th {\n",
       "        vertical-align: top;\n",
       "    }\n",
       "\n",
       "    .dataframe thead th {\n",
       "        text-align: right;\n",
       "    }\n",
       "</style>\n",
       "<table border=\"1\" class=\"dataframe\">\n",
       "  <thead>\n",
       "    <tr style=\"text-align: right;\">\n",
       "      <th></th>\n",
       "      <th>Engine_Size</th>\n",
       "      <th>Cylinders</th>\n",
       "      <th>Fuel_Consumption_Comb_(L/100km)</th>\n",
       "      <th>CO2_Emissions(g/km)</th>\n",
       "      <th>Vehicle Class_FULL-SIZE</th>\n",
       "      <th>Vehicle Class_MID-SIZE</th>\n",
       "      <th>Vehicle Class_MINICOMPACT</th>\n",
       "      <th>Vehicle Class_MINIVAN</th>\n",
       "      <th>Vehicle Class_PICKUP TRUCK - SMALL</th>\n",
       "      <th>Vehicle Class_PICKUP TRUCK - STANDARD</th>\n",
       "      <th>...</th>\n",
       "      <th>Transmission_AV6</th>\n",
       "      <th>Transmission_AV7</th>\n",
       "      <th>Transmission_AV8</th>\n",
       "      <th>Transmission_M5</th>\n",
       "      <th>Transmission_M6</th>\n",
       "      <th>Transmission_M7</th>\n",
       "      <th>Fuel Type_E</th>\n",
       "      <th>Fuel Type_N</th>\n",
       "      <th>Fuel Type_X</th>\n",
       "      <th>Fuel Type_Z</th>\n",
       "    </tr>\n",
       "  </thead>\n",
       "  <tbody>\n",
       "    <tr>\n",
       "      <th>0</th>\n",
       "      <td>2.0</td>\n",
       "      <td>4</td>\n",
       "      <td>8.5</td>\n",
       "      <td>196</td>\n",
       "      <td>0</td>\n",
       "      <td>0</td>\n",
       "      <td>0</td>\n",
       "      <td>0</td>\n",
       "      <td>0</td>\n",
       "      <td>0</td>\n",
       "      <td>...</td>\n",
       "      <td>0</td>\n",
       "      <td>0</td>\n",
       "      <td>0</td>\n",
       "      <td>0</td>\n",
       "      <td>0</td>\n",
       "      <td>0</td>\n",
       "      <td>0</td>\n",
       "      <td>0</td>\n",
       "      <td>0</td>\n",
       "      <td>1</td>\n",
       "    </tr>\n",
       "    <tr>\n",
       "      <th>1</th>\n",
       "      <td>2.4</td>\n",
       "      <td>4</td>\n",
       "      <td>9.6</td>\n",
       "      <td>221</td>\n",
       "      <td>0</td>\n",
       "      <td>0</td>\n",
       "      <td>0</td>\n",
       "      <td>0</td>\n",
       "      <td>0</td>\n",
       "      <td>0</td>\n",
       "      <td>...</td>\n",
       "      <td>0</td>\n",
       "      <td>0</td>\n",
       "      <td>0</td>\n",
       "      <td>0</td>\n",
       "      <td>1</td>\n",
       "      <td>0</td>\n",
       "      <td>0</td>\n",
       "      <td>0</td>\n",
       "      <td>0</td>\n",
       "      <td>1</td>\n",
       "    </tr>\n",
       "    <tr>\n",
       "      <th>2</th>\n",
       "      <td>1.5</td>\n",
       "      <td>4</td>\n",
       "      <td>5.9</td>\n",
       "      <td>136</td>\n",
       "      <td>0</td>\n",
       "      <td>0</td>\n",
       "      <td>0</td>\n",
       "      <td>0</td>\n",
       "      <td>0</td>\n",
       "      <td>0</td>\n",
       "      <td>...</td>\n",
       "      <td>0</td>\n",
       "      <td>1</td>\n",
       "      <td>0</td>\n",
       "      <td>0</td>\n",
       "      <td>0</td>\n",
       "      <td>0</td>\n",
       "      <td>0</td>\n",
       "      <td>0</td>\n",
       "      <td>0</td>\n",
       "      <td>1</td>\n",
       "    </tr>\n",
       "    <tr>\n",
       "      <th>3</th>\n",
       "      <td>3.5</td>\n",
       "      <td>6</td>\n",
       "      <td>11.1</td>\n",
       "      <td>255</td>\n",
       "      <td>0</td>\n",
       "      <td>0</td>\n",
       "      <td>0</td>\n",
       "      <td>0</td>\n",
       "      <td>0</td>\n",
       "      <td>0</td>\n",
       "      <td>...</td>\n",
       "      <td>0</td>\n",
       "      <td>0</td>\n",
       "      <td>0</td>\n",
       "      <td>0</td>\n",
       "      <td>0</td>\n",
       "      <td>0</td>\n",
       "      <td>0</td>\n",
       "      <td>0</td>\n",
       "      <td>0</td>\n",
       "      <td>1</td>\n",
       "    </tr>\n",
       "    <tr>\n",
       "      <th>4</th>\n",
       "      <td>3.5</td>\n",
       "      <td>6</td>\n",
       "      <td>10.6</td>\n",
       "      <td>244</td>\n",
       "      <td>0</td>\n",
       "      <td>0</td>\n",
       "      <td>0</td>\n",
       "      <td>0</td>\n",
       "      <td>0</td>\n",
       "      <td>0</td>\n",
       "      <td>...</td>\n",
       "      <td>0</td>\n",
       "      <td>0</td>\n",
       "      <td>0</td>\n",
       "      <td>0</td>\n",
       "      <td>0</td>\n",
       "      <td>0</td>\n",
       "      <td>0</td>\n",
       "      <td>0</td>\n",
       "      <td>0</td>\n",
       "      <td>1</td>\n",
       "    </tr>\n",
       "    <tr>\n",
       "      <th>...</th>\n",
       "      <td>...</td>\n",
       "      <td>...</td>\n",
       "      <td>...</td>\n",
       "      <td>...</td>\n",
       "      <td>...</td>\n",
       "      <td>...</td>\n",
       "      <td>...</td>\n",
       "      <td>...</td>\n",
       "      <td>...</td>\n",
       "      <td>...</td>\n",
       "      <td>...</td>\n",
       "      <td>...</td>\n",
       "      <td>...</td>\n",
       "      <td>...</td>\n",
       "      <td>...</td>\n",
       "      <td>...</td>\n",
       "      <td>...</td>\n",
       "      <td>...</td>\n",
       "      <td>...</td>\n",
       "      <td>...</td>\n",
       "      <td>...</td>\n",
       "    </tr>\n",
       "    <tr>\n",
       "      <th>7380</th>\n",
       "      <td>2.0</td>\n",
       "      <td>4</td>\n",
       "      <td>9.4</td>\n",
       "      <td>219</td>\n",
       "      <td>0</td>\n",
       "      <td>0</td>\n",
       "      <td>0</td>\n",
       "      <td>0</td>\n",
       "      <td>0</td>\n",
       "      <td>0</td>\n",
       "      <td>...</td>\n",
       "      <td>0</td>\n",
       "      <td>0</td>\n",
       "      <td>0</td>\n",
       "      <td>0</td>\n",
       "      <td>0</td>\n",
       "      <td>0</td>\n",
       "      <td>0</td>\n",
       "      <td>0</td>\n",
       "      <td>0</td>\n",
       "      <td>1</td>\n",
       "    </tr>\n",
       "    <tr>\n",
       "      <th>7381</th>\n",
       "      <td>2.0</td>\n",
       "      <td>4</td>\n",
       "      <td>9.9</td>\n",
       "      <td>232</td>\n",
       "      <td>0</td>\n",
       "      <td>0</td>\n",
       "      <td>0</td>\n",
       "      <td>0</td>\n",
       "      <td>0</td>\n",
       "      <td>0</td>\n",
       "      <td>...</td>\n",
       "      <td>0</td>\n",
       "      <td>0</td>\n",
       "      <td>0</td>\n",
       "      <td>0</td>\n",
       "      <td>0</td>\n",
       "      <td>0</td>\n",
       "      <td>0</td>\n",
       "      <td>0</td>\n",
       "      <td>0</td>\n",
       "      <td>1</td>\n",
       "    </tr>\n",
       "    <tr>\n",
       "      <th>7382</th>\n",
       "      <td>2.0</td>\n",
       "      <td>4</td>\n",
       "      <td>10.3</td>\n",
       "      <td>240</td>\n",
       "      <td>0</td>\n",
       "      <td>0</td>\n",
       "      <td>0</td>\n",
       "      <td>0</td>\n",
       "      <td>0</td>\n",
       "      <td>0</td>\n",
       "      <td>...</td>\n",
       "      <td>0</td>\n",
       "      <td>0</td>\n",
       "      <td>0</td>\n",
       "      <td>0</td>\n",
       "      <td>0</td>\n",
       "      <td>0</td>\n",
       "      <td>0</td>\n",
       "      <td>0</td>\n",
       "      <td>0</td>\n",
       "      <td>1</td>\n",
       "    </tr>\n",
       "    <tr>\n",
       "      <th>7383</th>\n",
       "      <td>2.0</td>\n",
       "      <td>4</td>\n",
       "      <td>9.9</td>\n",
       "      <td>232</td>\n",
       "      <td>0</td>\n",
       "      <td>0</td>\n",
       "      <td>0</td>\n",
       "      <td>0</td>\n",
       "      <td>0</td>\n",
       "      <td>0</td>\n",
       "      <td>...</td>\n",
       "      <td>0</td>\n",
       "      <td>0</td>\n",
       "      <td>0</td>\n",
       "      <td>0</td>\n",
       "      <td>0</td>\n",
       "      <td>0</td>\n",
       "      <td>0</td>\n",
       "      <td>0</td>\n",
       "      <td>0</td>\n",
       "      <td>1</td>\n",
       "    </tr>\n",
       "    <tr>\n",
       "      <th>7384</th>\n",
       "      <td>2.0</td>\n",
       "      <td>4</td>\n",
       "      <td>10.7</td>\n",
       "      <td>248</td>\n",
       "      <td>0</td>\n",
       "      <td>0</td>\n",
       "      <td>0</td>\n",
       "      <td>0</td>\n",
       "      <td>0</td>\n",
       "      <td>0</td>\n",
       "      <td>...</td>\n",
       "      <td>0</td>\n",
       "      <td>0</td>\n",
       "      <td>0</td>\n",
       "      <td>0</td>\n",
       "      <td>0</td>\n",
       "      <td>0</td>\n",
       "      <td>0</td>\n",
       "      <td>0</td>\n",
       "      <td>0</td>\n",
       "      <td>1</td>\n",
       "    </tr>\n",
       "  </tbody>\n",
       "</table>\n",
       "<p>6848 rows × 48 columns</p>\n",
       "</div>"
      ],
      "text/plain": [
       "      Engine_Size  Cylinders  Fuel_Consumption_Comb_(L/100km)  \\\n",
       "0             2.0          4                              8.5   \n",
       "1             2.4          4                              9.6   \n",
       "2             1.5          4                              5.9   \n",
       "3             3.5          6                             11.1   \n",
       "4             3.5          6                             10.6   \n",
       "...           ...        ...                              ...   \n",
       "7380          2.0          4                              9.4   \n",
       "7381          2.0          4                              9.9   \n",
       "7382          2.0          4                             10.3   \n",
       "7383          2.0          4                              9.9   \n",
       "7384          2.0          4                             10.7   \n",
       "\n",
       "      CO2_Emissions(g/km)  Vehicle Class_FULL-SIZE  Vehicle Class_MID-SIZE  \\\n",
       "0                     196                        0                       0   \n",
       "1                     221                        0                       0   \n",
       "2                     136                        0                       0   \n",
       "3                     255                        0                       0   \n",
       "4                     244                        0                       0   \n",
       "...                   ...                      ...                     ...   \n",
       "7380                  219                        0                       0   \n",
       "7381                  232                        0                       0   \n",
       "7382                  240                        0                       0   \n",
       "7383                  232                        0                       0   \n",
       "7384                  248                        0                       0   \n",
       "\n",
       "      Vehicle Class_MINICOMPACT  Vehicle Class_MINIVAN  \\\n",
       "0                             0                      0   \n",
       "1                             0                      0   \n",
       "2                             0                      0   \n",
       "3                             0                      0   \n",
       "4                             0                      0   \n",
       "...                         ...                    ...   \n",
       "7380                          0                      0   \n",
       "7381                          0                      0   \n",
       "7382                          0                      0   \n",
       "7383                          0                      0   \n",
       "7384                          0                      0   \n",
       "\n",
       "      Vehicle Class_PICKUP TRUCK - SMALL  \\\n",
       "0                                      0   \n",
       "1                                      0   \n",
       "2                                      0   \n",
       "3                                      0   \n",
       "4                                      0   \n",
       "...                                  ...   \n",
       "7380                                   0   \n",
       "7381                                   0   \n",
       "7382                                   0   \n",
       "7383                                   0   \n",
       "7384                                   0   \n",
       "\n",
       "      Vehicle Class_PICKUP TRUCK - STANDARD  ...  Transmission_AV6  \\\n",
       "0                                         0  ...                 0   \n",
       "1                                         0  ...                 0   \n",
       "2                                         0  ...                 0   \n",
       "3                                         0  ...                 0   \n",
       "4                                         0  ...                 0   \n",
       "...                                     ...  ...               ...   \n",
       "7380                                      0  ...                 0   \n",
       "7381                                      0  ...                 0   \n",
       "7382                                      0  ...                 0   \n",
       "7383                                      0  ...                 0   \n",
       "7384                                      0  ...                 0   \n",
       "\n",
       "      Transmission_AV7  Transmission_AV8  Transmission_M5  Transmission_M6  \\\n",
       "0                    0                 0                0                0   \n",
       "1                    0                 0                0                1   \n",
       "2                    1                 0                0                0   \n",
       "3                    0                 0                0                0   \n",
       "4                    0                 0                0                0   \n",
       "...                ...               ...              ...              ...   \n",
       "7380                 0                 0                0                0   \n",
       "7381                 0                 0                0                0   \n",
       "7382                 0                 0                0                0   \n",
       "7383                 0                 0                0                0   \n",
       "7384                 0                 0                0                0   \n",
       "\n",
       "      Transmission_M7  Fuel Type_E  Fuel Type_N  Fuel Type_X  Fuel Type_Z  \n",
       "0                   0            0            0            0            1  \n",
       "1                   0            0            0            0            1  \n",
       "2                   0            0            0            0            1  \n",
       "3                   0            0            0            0            1  \n",
       "4                   0            0            0            0            1  \n",
       "...               ...          ...          ...          ...          ...  \n",
       "7380                0            0            0            0            1  \n",
       "7381                0            0            0            0            1  \n",
       "7382                0            0            0            0            1  \n",
       "7383                0            0            0            0            1  \n",
       "7384                0            0            0            0            1  \n",
       "\n",
       "[6848 rows x 48 columns]"
      ]
     },
     "execution_count": 19,
     "metadata": {},
     "output_type": "execute_result"
    }
   ],
   "source": [
    "df"
   ]
  },
  {
   "cell_type": "markdown",
   "id": "bead21a0",
   "metadata": {
    "papermill": {
     "duration": 0.012691,
     "end_time": "2023-01-25T14:22:41.954718",
     "exception": false,
     "start_time": "2023-01-25T14:22:41.942027",
     "status": "completed"
    },
    "tags": []
   },
   "source": [
    "# normalizing the df using minmax scaler "
   ]
  },
  {
   "cell_type": "code",
   "execution_count": 20,
   "id": "5518252a",
   "metadata": {
    "execution": {
     "iopub.execute_input": "2023-01-25T14:22:41.981209Z",
     "iopub.status.busy": "2023-01-25T14:22:41.980947Z",
     "iopub.status.idle": "2023-01-25T14:22:41.985038Z",
     "shell.execute_reply": "2023-01-25T14:22:41.984087Z"
    },
    "papermill": {
     "duration": 0.019516,
     "end_time": "2023-01-25T14:22:41.986951",
     "exception": false,
     "start_time": "2023-01-25T14:22:41.967435",
     "status": "completed"
    },
    "tags": []
   },
   "outputs": [],
   "source": [
    "import sklearn.preprocessing as skp\n",
    "mms = skp.MinMaxScaler()"
   ]
  },
  {
   "cell_type": "code",
   "execution_count": 21,
   "id": "6f933dd2",
   "metadata": {
    "execution": {
     "iopub.execute_input": "2023-01-25T14:22:42.013655Z",
     "iopub.status.busy": "2023-01-25T14:22:42.013339Z",
     "iopub.status.idle": "2023-01-25T14:22:42.028272Z",
     "shell.execute_reply": "2023-01-25T14:22:42.027408Z"
    },
    "papermill": {
     "duration": 0.030704,
     "end_time": "2023-01-25T14:22:42.030359",
     "exception": false,
     "start_time": "2023-01-25T14:22:41.999655",
     "status": "completed"
    },
    "tags": []
   },
   "outputs": [],
   "source": [
    "for  i in enumerate(df_num):\n",
    "    df[i[1]] = mms.fit_transform(df[[i[1]]])\n",
    "    "
   ]
  },
  {
   "cell_type": "markdown",
   "id": "0ebc1249",
   "metadata": {
    "papermill": {
     "duration": 0.012867,
     "end_time": "2023-01-25T14:22:42.055970",
     "exception": false,
     "start_time": "2023-01-25T14:22:42.043103",
     "status": "completed"
    },
    "tags": []
   },
   "source": [
    "# spliting the data to train and test"
   ]
  },
  {
   "cell_type": "code",
   "execution_count": 22,
   "id": "9a8a547b",
   "metadata": {
    "execution": {
     "iopub.execute_input": "2023-01-25T14:22:42.082863Z",
     "iopub.status.busy": "2023-01-25T14:22:42.082548Z",
     "iopub.status.idle": "2023-01-25T14:22:42.134712Z",
     "shell.execute_reply": "2023-01-25T14:22:42.133795Z"
    },
    "papermill": {
     "duration": 0.067938,
     "end_time": "2023-01-25T14:22:42.136835",
     "exception": false,
     "start_time": "2023-01-25T14:22:42.068897",
     "status": "completed"
    },
    "tags": []
   },
   "outputs": [],
   "source": [
    "from sklearn.model_selection import train_test_split\n",
    "\n",
    "X = df.drop(['CO2_Emissions(g/km)'], axis= 1)\n",
    "y = df[\"CO2_Emissions(g/km)\"]\n",
    "\n",
    "x_train, x_test, y_train, y_test = train_test_split(X, y, test_size=0.20, random_state=11)"
   ]
  },
  {
   "cell_type": "markdown",
   "id": "1baa6fe4",
   "metadata": {
    "papermill": {
     "duration": 0.012749,
     "end_time": "2023-01-25T14:22:42.162408",
     "exception": false,
     "start_time": "2023-01-25T14:22:42.149659",
     "status": "completed"
    },
    "tags": []
   },
   "source": [
    "# Linear regression"
   ]
  },
  {
   "cell_type": "code",
   "execution_count": 23,
   "id": "b08aa941",
   "metadata": {
    "execution": {
     "iopub.execute_input": "2023-01-25T14:22:42.190314Z",
     "iopub.status.busy": "2023-01-25T14:22:42.188810Z",
     "iopub.status.idle": "2023-01-25T14:22:42.289441Z",
     "shell.execute_reply": "2023-01-25T14:22:42.288054Z"
    },
    "papermill": {
     "duration": 0.117566,
     "end_time": "2023-01-25T14:22:42.292670",
     "exception": false,
     "start_time": "2023-01-25T14:22:42.175104",
     "status": "completed"
    },
    "tags": []
   },
   "outputs": [
    {
     "data": {
      "text/plain": [
       "0.994006300141097"
      ]
     },
     "execution_count": 23,
     "metadata": {},
     "output_type": "execute_result"
    }
   ],
   "source": [
    "from sklearn.linear_model import LinearRegression\n",
    "linear_reg=LinearRegression()\n",
    "linear_reg.fit(x_train, y_train)\n",
    "linear_reg.score(x_test,y_test)"
   ]
  },
  {
   "cell_type": "markdown",
   "id": "ef631d1f",
   "metadata": {
    "papermill": {
     "duration": 0.054726,
     "end_time": "2023-01-25T14:22:42.408818",
     "exception": false,
     "start_time": "2023-01-25T14:22:42.354092",
     "status": "completed"
    },
    "tags": []
   },
   "source": [
    "# KNeighborsRegressor"
   ]
  },
  {
   "cell_type": "code",
   "execution_count": 24,
   "id": "452862e9",
   "metadata": {
    "execution": {
     "iopub.execute_input": "2023-01-25T14:22:42.438788Z",
     "iopub.status.busy": "2023-01-25T14:22:42.438448Z",
     "iopub.status.idle": "2023-01-25T14:22:42.886712Z",
     "shell.execute_reply": "2023-01-25T14:22:42.885766Z"
    },
    "papermill": {
     "duration": 0.464469,
     "end_time": "2023-01-25T14:22:42.889160",
     "exception": false,
     "start_time": "2023-01-25T14:22:42.424691",
     "status": "completed"
    },
    "tags": []
   },
   "outputs": [
    {
     "data": {
      "text/plain": [
       "0.9655651375976373"
      ]
     },
     "execution_count": 24,
     "metadata": {},
     "output_type": "execute_result"
    }
   ],
   "source": [
    "from sklearn.neighbors import KNeighborsRegressor\n",
    "knn = KNeighborsRegressor()\n",
    "knn.fit(x_train,y_train)\n",
    "y_pred1=knn.predict(x_test)\n",
    "knn.score(x_test,y_test) "
   ]
  },
  {
   "cell_type": "code",
   "execution_count": 25,
   "id": "683a4d83",
   "metadata": {
    "execution": {
     "iopub.execute_input": "2023-01-25T14:22:42.917037Z",
     "iopub.status.busy": "2023-01-25T14:22:42.916358Z",
     "iopub.status.idle": "2023-01-25T14:22:46.591063Z",
     "shell.execute_reply": "2023-01-25T14:22:46.590075Z"
    },
    "papermill": {
     "duration": 3.69113,
     "end_time": "2023-01-25T14:22:46.593455",
     "exception": false,
     "start_time": "2023-01-25T14:22:42.902325",
     "status": "completed"
    },
    "tags": []
   },
   "outputs": [],
   "source": [
    "k_range=range(1,20,1)\n",
    "test_records=[]\n",
    "for i in k_range:\n",
    "    \n",
    "    knn=KNeighborsRegressor(n_neighbors=i)\n",
    "    knn.fit(x_train,y_train)\n",
    "    test_records.append(knn.score(x_test,y_test))\n",
    "\n"
   ]
  },
  {
   "cell_type": "code",
   "execution_count": 26,
   "id": "b55e1c9c",
   "metadata": {
    "execution": {
     "iopub.execute_input": "2023-01-25T14:22:46.623046Z",
     "iopub.status.busy": "2023-01-25T14:22:46.622748Z",
     "iopub.status.idle": "2023-01-25T14:22:46.824695Z",
     "shell.execute_reply": "2023-01-25T14:22:46.823543Z"
    },
    "papermill": {
     "duration": 0.21875,
     "end_time": "2023-01-25T14:22:46.826864",
     "exception": false,
     "start_time": "2023-01-25T14:22:46.608114",
     "status": "completed"
    },
    "tags": []
   },
   "outputs": [
    {
     "data": {
      "text/plain": [
       "[<matplotlib.lines.Line2D at 0x7faa0186f3d0>]"
      ]
     },
     "execution_count": 26,
     "metadata": {},
     "output_type": "execute_result"
    },
    {
     "data": {
      "image/png": "[encoded data removed]",
      "text/plain": [
       "<Figure size 720x432 with 1 Axes>"
      ]
     },
     "metadata": {
      "needs_background": "light"
     },
     "output_type": "display_data"
    }
   ],
   "source": [
    "plt.figure(figsize=(10,6))\n",
    "\n",
    "plt.plot(k_range,test_records,label=\"testing acc\")"
   ]
  },
  {
   "cell_type": "markdown",
   "id": "76eabe5e",
   "metadata": {
    "papermill": {
     "duration": 0.0132,
     "end_time": "2023-01-25T14:22:46.853545",
     "exception": false,
     "start_time": "2023-01-25T14:22:46.840345",
     "status": "completed"
    },
    "tags": []
   },
   "source": [
    "# DecisionTreeRegressor"
   ]
  },
  {
   "cell_type": "code",
   "execution_count": 27,
   "id": "1208d07d",
   "metadata": {
    "execution": {
     "iopub.execute_input": "2023-01-25T14:22:46.882545Z",
     "iopub.status.busy": "2023-01-25T14:22:46.880705Z",
     "iopub.status.idle": "2023-01-25T14:22:46.926162Z",
     "shell.execute_reply": "2023-01-25T14:22:46.925131Z"
    },
    "papermill": {
     "duration": 0.06173,
     "end_time": "2023-01-25T14:22:46.928359",
     "exception": false,
     "start_time": "2023-01-25T14:22:46.866629",
     "status": "completed"
    },
    "tags": []
   },
   "outputs": [
    {
     "data": {
      "text/plain": [
       "0.9923406400882218"
      ]
     },
     "execution_count": 27,
     "metadata": {},
     "output_type": "execute_result"
    }
   ],
   "source": [
    "from sklearn import tree\n",
    "clf = tree.DecisionTreeRegressor(random_state=1, max_depth=7)\n",
    "clf = clf.fit(x_train, y_train)\n",
    "clf.score(x_test,y_test)"
   ]
  },
  {
   "cell_type": "markdown",
   "id": "dd695c6e",
   "metadata": {
    "papermill": {
     "duration": 0.013086,
     "end_time": "2023-01-25T14:22:46.954652",
     "exception": false,
     "start_time": "2023-01-25T14:22:46.941566",
     "status": "completed"
    },
    "tags": []
   },
   "source": [
    "# SVR"
   ]
  },
  {
   "cell_type": "code",
   "execution_count": 28,
   "id": "3f8dfe6c",
   "metadata": {
    "execution": {
     "iopub.execute_input": "2023-01-25T14:22:46.981732Z",
     "iopub.status.busy": "2023-01-25T14:22:46.981433Z",
     "iopub.status.idle": "2023-01-25T14:22:47.032868Z",
     "shell.execute_reply": "2023-01-25T14:22:47.031704Z"
    },
    "papermill": {
     "duration": 0.068018,
     "end_time": "2023-01-25T14:22:47.035482",
     "exception": false,
     "start_time": "2023-01-25T14:22:46.967464",
     "status": "completed"
    },
    "tags": []
   },
   "outputs": [
    {
     "name": "stdout",
     "output_type": "stream",
     "text": [
      "0.9612093036914826\n"
     ]
    }
   ],
   "source": [
    "from sklearn.svm import SVR\n",
    "sv = SVR(kernel='linear')\n",
    "sv.fit(x_train,y_train)\n",
    "y_pred = sv.predict(x_test)\n",
    "\n",
    "print(sv.score(x_test,y_test))\n"
   ]
  },
  {
   "cell_type": "code",
   "execution_count": 29,
   "id": "c3234ba5",
   "metadata": {
    "execution": {
     "iopub.execute_input": "2023-01-25T14:22:47.063778Z",
     "iopub.status.busy": "2023-01-25T14:22:47.063453Z",
     "iopub.status.idle": "2023-01-25T14:22:47.215121Z",
     "shell.execute_reply": "2023-01-25T14:22:47.214194Z"
    },
    "papermill": {
     "duration": 0.168013,
     "end_time": "2023-01-25T14:22:47.217302",
     "exception": false,
     "start_time": "2023-01-25T14:22:47.049289",
     "status": "completed"
    },
    "tags": []
   },
   "outputs": [],
   "source": [
    "test_records = []\n",
    "train_records = []\n",
    "start=0.1\n",
    "stop=1\n",
    "step=0.1\n",
    "float_range_array = np.arange(start, stop, step)\n",
    "float_range_list = list(float_range_array)\n",
    "\n",
    "epsilons=float_range_list\n",
    "for i in epsilons:\n",
    "    sv = SVR(epsilon=i,kernel='linear')\n",
    "    sv.fit(x_train,y_train)\n",
    "    test_records.append(sv.score(x_test,y_test))\n",
    "    train_records.append(sv.score(x_train,y_train))"
   ]
  },
  {
   "cell_type": "code",
   "execution_count": 30,
   "id": "35d3f104",
   "metadata": {
    "execution": {
     "iopub.execute_input": "2023-01-25T14:22:47.246301Z",
     "iopub.status.busy": "2023-01-25T14:22:47.244895Z",
     "iopub.status.idle": "2023-01-25T14:22:47.469836Z",
     "shell.execute_reply": "2023-01-25T14:22:47.468709Z"
    },
    "papermill": {
     "duration": 0.241225,
     "end_time": "2023-01-25T14:22:47.471888",
     "exception": false,
     "start_time": "2023-01-25T14:22:47.230663",
     "status": "completed"
    },
    "tags": []
   },
   "outputs": [
    {
     "data": {
      "text/plain": [
       "<function matplotlib.pyplot.show(close=None, block=None)>"
      ]
     },
     "execution_count": 30,
     "metadata": {},
     "output_type": "execute_result"
    },
    {
     "data": {
      "image/png": "[encoded data removed]",
      "text/plain": [
       "<Figure size 720x432 with 1 Axes>"
      ]
     },
     "metadata": {
      "needs_background": "light"
     },
     "output_type": "display_data"
    }
   ],
   "source": [
    "plt.figure(figsize=(10,6))\n",
    "\n",
    "plt.plot(epsilons,train_records,label=\"training acc\")\n",
    "plt.plot(epsilons,test_records,label=\"testing acc\")\n",
    "\n",
    "plt.legend([\"training acc\",\"testing acc\"])\n",
    "plt.show"
   ]
  },
  {
   "cell_type": "code",
   "execution_count": null,
   "id": "60573acc",
   "metadata": {
    "papermill": {
     "duration": 0.013571,
     "end_time": "2023-01-25T14:22:47.499393",
     "exception": false,
     "start_time": "2023-01-25T14:22:47.485822",
     "status": "completed"
    },
    "tags": []
   },
   "outputs": [],
   "source": []
  }
 ],
 "metadata": {
  "kernelspec": {
   "display_name": "Python 3",
   "language": "python",
   "name": "python3"
  },
  "language_info": {
   "codemirror_mode": {
    "name": "ipython",
    "version": 3
   },
   "file_extension": ".py",
   "mimetype": "text/x-python",
   "name": "python",
   "nbconvert_exporter": "python",
   "pygments_lexer": "ipython3",
   "version": "3.7.12"
  },
  "papermill": {
   "default_parameters": {},
   "duration": 30.382653,
   "end_time": "2023-01-25T14:22:48.333750",
   "environment_variables": {},
   "exception": null,
   "input_path": "__notebook__.ipynb",
   "output_path": "__notebook__.ipynb",
   "parameters": {},
   "start_time": "2023-01-25T14:22:17.951097",
   "version": "2.3.4"
  }
 },
 "nbformat": 4,
 "nbformat_minor": 5
}
